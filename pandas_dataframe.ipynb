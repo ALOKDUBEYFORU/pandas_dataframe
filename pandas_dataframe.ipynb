{
 "cells": [
  {
   "cell_type": "markdown",
   "id": "3356d53e",
   "metadata": {},
   "source": [
    "<h1>Introduction to Pandas</h1>"
   ]
  },
  {
   "cell_type": "markdown",
   "id": "a700be50",
   "metadata": {},
   "source": [
    "<h2> Creation of Dataframes</h2>"
   ]
  },
  {
   "cell_type": "code",
   "execution_count": 1,
   "id": "05a34ffa",
   "metadata": {},
   "outputs": [
    {
     "name": "stdout",
     "output_type": "stream",
     "text": [
      "      Name  science  maths  social\n",
      "0   anitha      100     78      55\n",
      "1    anika      100     80      60\n",
      "2  pritesh       98     44      38\n",
      "3   deepak       67     76      96\n",
      "\n",
      "       Name  science  maths  social\n",
      "0   anitha      100     78      55\n",
      "1    anika      100     80      60\n",
      "2  pritesh       98     44      38\n",
      "3   deepak       67     76      96\n",
      "\n",
      "       Name  science  maths  social\n",
      "0   anitha      100     78      55\n",
      "1    anika      100     80      60\n",
      "2  pritesh       98     44      38\n",
      "3   deepak       67     76      96\n"
     ]
    }
   ],
   "source": [
    "import numpy as np\n",
    "import pandas as pd\n",
    "\n",
    "#Creation of a pandas dataframe from using a list.\n",
    "student_list = [['anitha',100,78,55],\n",
    "               ['anika',100,80,60],\n",
    "               ['pritesh',98,44,38],\n",
    "               ['deepak',67,76,96]]\n",
    "\n",
    "column_list = ['Name','science','maths','social']\n",
    "\n",
    "print(pd.DataFrame(student_list,columns= column_list))\n",
    "\n",
    "#creation of a pandas dataframe using a dictionary\n",
    "student_dict = {'Name':['anitha','anika','pritesh','deepak'],\n",
    "               'science':[100,100,98,67],\n",
    "               'maths':[78,80,44,76],\n",
    "               'social':[55,60,38,96]}\n",
    "print(\"\\n\",pd.DataFrame(student_dict))\n",
    "\n",
    "#Creation of a pandas dataframe from using a tuple.\n",
    "student_tpl = (('anitha',100,78,55),\n",
    "               ('anika',100,80,60),\n",
    "               ('pritesh',98,44,38),\n",
    "               ('deepak',67,76,96))\n",
    "\n",
    "column_tpl = ('Name','science','maths','social')\n",
    "\n",
    "print(\"\\n\",pd.DataFrame(student_tpl,columns= column_tpl))"
   ]
  },
  {
   "cell_type": "code",
   "execution_count": 2,
   "id": "9eedf9c7",
   "metadata": {},
   "outputs": [
    {
     "name": "stdout",
     "output_type": "stream",
     "text": [
      "                                   title_x     imdb_id  \\\n",
      "0                 Uri: The Surgical Strike   tt8291224   \n",
      "1                            Battalion 609   tt9472208   \n",
      "2     The Accidental Prime Minister (film)   tt6986710   \n",
      "3                          Why Cheat India   tt8108208   \n",
      "4                          Evening Shadows   tt6028796   \n",
      "...                                    ...         ...   \n",
      "1624                 Tera Mera Saath Rahen   tt0301250   \n",
      "1625                  Yeh Zindagi Ka Safar   tt0298607   \n",
      "1626                       Sabse Bada Sukh   tt0069204   \n",
      "1627                                 Daaka  tt10833860   \n",
      "1628                              Humsafar   tt2403201   \n",
      "\n",
      "                                            poster_path  \\\n",
      "0     https://upload.wikimedia.org/wikipedia/en/thum...   \n",
      "1                                                   NaN   \n",
      "2     https://upload.wikimedia.org/wikipedia/en/thum...   \n",
      "3     https://upload.wikimedia.org/wikipedia/en/thum...   \n",
      "4                                                   NaN   \n",
      "...                                                 ...   \n",
      "1624  https://upload.wikimedia.org/wikipedia/en/2/2b...   \n",
      "1625  https://upload.wikimedia.org/wikipedia/en/thum...   \n",
      "1626                                                NaN   \n",
      "1627  https://upload.wikimedia.org/wikipedia/en/thum...   \n",
      "1628  https://upload.wikimedia.org/wikipedia/en/thum...   \n",
      "\n",
      "                                              wiki_link  \\\n",
      "0     https://en.wikipedia.org/wiki/Uri:_The_Surgica...   \n",
      "1           https://en.wikipedia.org/wiki/Battalion_609   \n",
      "2     https://en.wikipedia.org/wiki/The_Accidental_P...   \n",
      "3         https://en.wikipedia.org/wiki/Why_Cheat_India   \n",
      "4         https://en.wikipedia.org/wiki/Evening_Shadows   \n",
      "...                                                 ...   \n",
      "1624  https://en.wikipedia.org/wiki/Tera_Mera_Saath_...   \n",
      "1625  https://en.wikipedia.org/wiki/Yeh_Zindagi_Ka_S...   \n",
      "1626      https://en.wikipedia.org/wiki/Sabse_Bada_Sukh   \n",
      "1627                https://en.wikipedia.org/wiki/Daaka   \n",
      "1628             https://en.wikipedia.org/wiki/Humsafar   \n",
      "\n",
      "                            title_y                 original_title  is_adult  \\\n",
      "0          Uri: The Surgical Strike       Uri: The Surgical Strike         0   \n",
      "1                     Battalion 609                  Battalion 609         0   \n",
      "2     The Accidental Prime Minister  The Accidental Prime Minister         0   \n",
      "3                   Why Cheat India                Why Cheat India         0   \n",
      "4                   Evening Shadows                Evening Shadows         0   \n",
      "...                             ...                            ...       ...   \n",
      "1624          Tera Mera Saath Rahen          Tera Mera Saath Rahen         0   \n",
      "1625           Yeh Zindagi Ka Safar           Yeh Zindagi Ka Safar         0   \n",
      "1626                Sabse Bada Sukh                Sabse Bada Sukh         0   \n",
      "1627                          Daaka                          Daaka         0   \n",
      "1628                       Humsafar                       Humsafar         0   \n",
      "\n",
      "      year_of_release runtime            genres  imdb_rating  imdb_votes  \\\n",
      "0                2019     138  Action|Drama|War          8.4       35112   \n",
      "1                2019     131               War          4.1          73   \n",
      "2                2019     112   Biography|Drama          6.1        5549   \n",
      "3                2019     121       Crime|Drama          6.0        1891   \n",
      "4                2018     102             Drama          7.3         280   \n",
      "...               ...     ...               ...          ...         ...   \n",
      "1624             2001     148             Drama          4.9         278   \n",
      "1625             2001     146             Drama          3.0         133   \n",
      "1626             2018      \\N      Comedy|Drama          6.1          13   \n",
      "1627             2019     136            Action          7.4          38   \n",
      "1628             2011      35     Drama|Romance          9.0        2968   \n",
      "\n",
      "                                                  story  \\\n",
      "0     Divided over five chapters  the film chronicle...   \n",
      "1     The story revolves around a cricket match betw...   \n",
      "2     Based on the memoir by Indian policy analyst S...   \n",
      "3     The movie focuses on existing malpractices in ...   \n",
      "4     While gay rights and marriage equality has bee...   \n",
      "...                                                 ...   \n",
      "1624  Raj Dixit lives with his younger brother  Rahu...   \n",
      "1625  Hindi pop-star  Sarina Devan  lives a wealthy ...   \n",
      "1626  Village born Lalloo re-locates to Bombay  and ...   \n",
      "1627  Shinda tries robbing a bank so he can be wealt...   \n",
      "1628  Sara and Ashar are childhood friends who share...   \n",
      "\n",
      "                                                summary tagline  \\\n",
      "0     Indian army special forces execute a covert op...     NaN   \n",
      "1     The story of Battalion 609 revolves around a c...     NaN   \n",
      "2     Explores Manmohan Singh's tenure as the Prime ...     NaN   \n",
      "3     The movie focuses on existing malpractices in ...     NaN   \n",
      "4     Under the 'Evening Shadows'  truth often plays...     NaN   \n",
      "...                                                 ...     ...   \n",
      "1624  A man is torn between his handicapped brother ...     NaN   \n",
      "1625  A singer finds out she was adopted when the ed...     NaN   \n",
      "1626  Village born Lalloo re-locates to Bombay  and ...     NaN   \n",
      "1627  Shinda tries robbing a bank so he can be wealt...     NaN   \n",
      "1628  Ashar and Khirad are forced to get married due...     NaN   \n",
      "\n",
      "                                                 actors  \\\n",
      "0     Vicky Kaushal|Paresh Rawal|Mohit Raina|Yami Ga...   \n",
      "1     Vicky Ahuja|Shoaib Ibrahim|Shrikant Kamat|Elen...   \n",
      "2     Anupam Kher|Akshaye Khanna|Aahana Kumra|Atul S...   \n",
      "3     Emraan Hashmi|Shreya Dhanwanthary|Snighdadeep ...   \n",
      "4     Mona Ambegaonkar|Ananth Narayan Mahadevan|Deva...   \n",
      "...                                                 ...   \n",
      "1624  Ajay Devgn|Sonali Bendre|Namrata Shirodkar|Pre...   \n",
      "1625  Ameesha Patel|Jimmy Sheirgill|Nafisa Ali|Gulsh...   \n",
      "1626  Vijay Arora|Asrani|Rajni Bala|Kumud Damle|Utpa...   \n",
      "1627                          Gippy Grewal|Zareen Khan|   \n",
      "1628                                        Fawad Khan|   \n",
      "\n",
      "            wins_nominations              release_date  \n",
      "0                     4 wins     11 January 2019 (USA)  \n",
      "1                        NaN   11 January 2019 (India)  \n",
      "2                        NaN     11 January 2019 (USA)  \n",
      "3                        NaN     18 January 2019 (USA)  \n",
      "4     17 wins & 1 nomination   11 January 2019 (India)  \n",
      "...                      ...                       ...  \n",
      "1624                     NaN   7 November 2001 (India)  \n",
      "1625                     NaN  16 November 2001 (India)  \n",
      "1626                     NaN                       NaN  \n",
      "1627                     NaN     1 November 2019 (USA)  \n",
      "1628                     NaN     TV Series (2011–2012)  \n",
      "\n",
      "[1629 rows x 18 columns]\n"
     ]
    }
   ],
   "source": [
    "movies = pd.read_csv(r'C:\\temp\\dataset\\movies.csv')\n",
    "print(movies)"
   ]
  },
  {
   "cell_type": "code",
   "execution_count": 3,
   "id": "4091eb5b",
   "metadata": {},
   "outputs": [
    {
     "data": {
      "text/plain": [
       "RangeIndex(start=0, stop=1629, step=1)"
      ]
     },
     "execution_count": 3,
     "metadata": {},
     "output_type": "execute_result"
    }
   ],
   "source": [
    "#to display the index of the dataframe\n",
    "movies.index"
   ]
  },
  {
   "cell_type": "code",
   "execution_count": 4,
   "id": "c440b311",
   "metadata": {},
   "outputs": [
    {
     "data": {
      "text/plain": [
       "Index(['title_x', 'imdb_id', 'poster_path', 'wiki_link', 'title_y',\n",
       "       'original_title', 'is_adult', 'year_of_release', 'runtime', 'genres',\n",
       "       'imdb_rating', 'imdb_votes', 'story', 'summary', 'tagline', 'actors',\n",
       "       'wins_nominations', 'release_date'],\n",
       "      dtype='object')"
      ]
     },
     "execution_count": 4,
     "metadata": {},
     "output_type": "execute_result"
    }
   ],
   "source": [
    "#to display the list of the columns of the dataframe\n",
    "movies.columns"
   ]
  },
  {
   "cell_type": "code",
   "execution_count": 5,
   "id": "3dad8a34",
   "metadata": {},
   "outputs": [
    {
     "data": {
      "text/plain": [
       "array([['Uri: The Surgical Strike', 'tt8291224',\n",
       "        'https://upload.wikimedia.org/wikipedia/en/thumb/3/3b/URI_-_New_poster.jpg/220px-URI_-_New_poster.jpg',\n",
       "        ...,\n",
       "        'Vicky Kaushal|Paresh Rawal|Mohit Raina|Yami Gautam|Kirti Kulhari|Rajit Kapoor|Ivan Rodrigues|Manasi Parekh|Swaroop Sampat|Riva Arora|Yogesh Soman|Fareed Ahmed|Akashdeep Arora|Kallol Banerjee|',\n",
       "        '4 wins', '11 January 2019 (USA)'],\n",
       "       ['Battalion 609', 'tt9472208', nan, ...,\n",
       "        'Vicky Ahuja|Shoaib Ibrahim|Shrikant Kamat|Elena Kazan|Vishwas Kini|Major Kishore|Jashn Kohli|Rammy C. Pandey|Manish Sharma|Sparsh Sharma|Farnaz Shetty|Vikas Shrivastav|Chandraprakash Thakur|Brajesh Tiwari|',\n",
       "        nan, '11 January 2019 (India)'],\n",
       "       ['The Accidental Prime Minister (film)', 'tt6986710',\n",
       "        'https://upload.wikimedia.org/wikipedia/en/thumb/a/a1/The_Accidental_Prime_Minister_film.jpg/220px-The_Accidental_Prime_Minister_film.jpg',\n",
       "        ...,\n",
       "        'Anupam Kher|Akshaye Khanna|Aahana Kumra|Atul Sharma|Manoj Anand|Arjun Mathur|Suzanne Bernert|Abdul Quadir Amin|Bharat Mistri|Divya Seth|Anil Rastogi|Ramesh Bhatkar|Parrgash Kaur|Jess Kaur|',\n",
       "        nan, '11 January 2019 (USA)'],\n",
       "       ...,\n",
       "       ['Sabse Bada Sukh', 'tt0069204', nan, ...,\n",
       "        'Vijay Arora|Asrani|Rajni Bala|Kumud Damle|Utpal Dutt|Meeta Faiyyaz|Rabi Ghosh|Tarun Ghosh|Sanjeev Kumar|Keshto Mukherjee|Meena Rai|',\n",
       "        nan, nan],\n",
       "       ['Daaka', 'tt10833860',\n",
       "        'https://upload.wikimedia.org/wikipedia/en/thumb/4/45/Daaka.jpg/220px-Daaka.jpg',\n",
       "        ..., 'Gippy Grewal|Zareen Khan|', nan, '1 November 2019 (USA)'],\n",
       "       ['Humsafar', 'tt2403201',\n",
       "        'https://upload.wikimedia.org/wikipedia/en/thumb/4/41/Flag_of_India.svg/23px-Flag_of_India.svg.png',\n",
       "        ..., 'Fawad Khan|', nan, 'TV Series (2011–2012)']], dtype=object)"
      ]
     },
     "execution_count": 5,
     "metadata": {},
     "output_type": "execute_result"
    }
   ],
   "source": [
    "#to display the list of the values in a 2d matrix.\n",
    "movies.values"
   ]
  },
  {
   "cell_type": "code",
   "execution_count": 6,
   "id": "21cd1234",
   "metadata": {},
   "outputs": [
    {
     "data": {
      "text/plain": [
       "(1629, 18)"
      ]
     },
     "execution_count": 6,
     "metadata": {},
     "output_type": "execute_result"
    }
   ],
   "source": [
    "#shape of the dataframe \n",
    "movies.shape\n",
    "#(1629, 18) means that the movies dataset has 1629 rows and 18 columns"
   ]
  },
  {
   "cell_type": "code",
   "execution_count": 7,
   "id": "4c208779",
   "metadata": {},
   "outputs": [
    {
     "data": {
      "text/plain": [
       "2"
      ]
     },
     "execution_count": 7,
     "metadata": {},
     "output_type": "execute_result"
    }
   ],
   "source": [
    "#ndim provides the number of dimensions \n",
    "movies.ndim\n",
    "#output : 2 means that it has two dimensions."
   ]
  },
  {
   "cell_type": "code",
   "execution_count": 8,
   "id": "eab05d88",
   "metadata": {},
   "outputs": [
    {
     "data": {
      "text/plain": [
       "title_x              object\n",
       "imdb_id              object\n",
       "poster_path          object\n",
       "wiki_link            object\n",
       "title_y              object\n",
       "original_title       object\n",
       "is_adult              int64\n",
       "year_of_release       int64\n",
       "runtime              object\n",
       "genres               object\n",
       "imdb_rating         float64\n",
       "imdb_votes            int64\n",
       "story                object\n",
       "summary              object\n",
       "tagline              object\n",
       "actors               object\n",
       "wins_nominations     object\n",
       "release_date         object\n",
       "dtype: object"
      ]
     },
     "execution_count": 8,
     "metadata": {},
     "output_type": "execute_result"
    }
   ],
   "source": [
    "#dtypes displays the data types of the columns. \n",
    "movies.dtypes"
   ]
  },
  {
   "cell_type": "code",
   "execution_count": 9,
   "id": "d139a855",
   "metadata": {},
   "outputs": [
    {
     "data": {
      "text/html": [
       "<div>\n",
       "<style scoped>\n",
       "    .dataframe tbody tr th:only-of-type {\n",
       "        vertical-align: middle;\n",
       "    }\n",
       "\n",
       "    .dataframe tbody tr th {\n",
       "        vertical-align: top;\n",
       "    }\n",
       "\n",
       "    .dataframe thead th {\n",
       "        text-align: right;\n",
       "    }\n",
       "</style>\n",
       "<table border=\"1\" class=\"dataframe\">\n",
       "  <thead>\n",
       "    <tr style=\"text-align: right;\">\n",
       "      <th></th>\n",
       "      <th>title_x</th>\n",
       "      <th>imdb_id</th>\n",
       "      <th>poster_path</th>\n",
       "      <th>wiki_link</th>\n",
       "      <th>title_y</th>\n",
       "      <th>original_title</th>\n",
       "      <th>is_adult</th>\n",
       "      <th>year_of_release</th>\n",
       "      <th>runtime</th>\n",
       "      <th>genres</th>\n",
       "      <th>imdb_rating</th>\n",
       "      <th>imdb_votes</th>\n",
       "      <th>story</th>\n",
       "      <th>summary</th>\n",
       "      <th>tagline</th>\n",
       "      <th>actors</th>\n",
       "      <th>wins_nominations</th>\n",
       "      <th>release_date</th>\n",
       "    </tr>\n",
       "  </thead>\n",
       "  <tbody>\n",
       "    <tr>\n",
       "      <th>0</th>\n",
       "      <td>Uri: The Surgical Strike</td>\n",
       "      <td>tt8291224</td>\n",
       "      <td>https://upload.wikimedia.org/wikipedia/en/thum...</td>\n",
       "      <td>https://en.wikipedia.org/wiki/Uri:_The_Surgica...</td>\n",
       "      <td>Uri: The Surgical Strike</td>\n",
       "      <td>Uri: The Surgical Strike</td>\n",
       "      <td>0</td>\n",
       "      <td>2019</td>\n",
       "      <td>138</td>\n",
       "      <td>Action|Drama|War</td>\n",
       "      <td>8.4</td>\n",
       "      <td>35112</td>\n",
       "      <td>Divided over five chapters  the film chronicle...</td>\n",
       "      <td>Indian army special forces execute a covert op...</td>\n",
       "      <td>NaN</td>\n",
       "      <td>Vicky Kaushal|Paresh Rawal|Mohit Raina|Yami Ga...</td>\n",
       "      <td>4 wins</td>\n",
       "      <td>11 January 2019 (USA)</td>\n",
       "    </tr>\n",
       "    <tr>\n",
       "      <th>1</th>\n",
       "      <td>Battalion 609</td>\n",
       "      <td>tt9472208</td>\n",
       "      <td>NaN</td>\n",
       "      <td>https://en.wikipedia.org/wiki/Battalion_609</td>\n",
       "      <td>Battalion 609</td>\n",
       "      <td>Battalion 609</td>\n",
       "      <td>0</td>\n",
       "      <td>2019</td>\n",
       "      <td>131</td>\n",
       "      <td>War</td>\n",
       "      <td>4.1</td>\n",
       "      <td>73</td>\n",
       "      <td>The story revolves around a cricket match betw...</td>\n",
       "      <td>The story of Battalion 609 revolves around a c...</td>\n",
       "      <td>NaN</td>\n",
       "      <td>Vicky Ahuja|Shoaib Ibrahim|Shrikant Kamat|Elen...</td>\n",
       "      <td>NaN</td>\n",
       "      <td>11 January 2019 (India)</td>\n",
       "    </tr>\n",
       "    <tr>\n",
       "      <th>2</th>\n",
       "      <td>The Accidental Prime Minister (film)</td>\n",
       "      <td>tt6986710</td>\n",
       "      <td>https://upload.wikimedia.org/wikipedia/en/thum...</td>\n",
       "      <td>https://en.wikipedia.org/wiki/The_Accidental_P...</td>\n",
       "      <td>The Accidental Prime Minister</td>\n",
       "      <td>The Accidental Prime Minister</td>\n",
       "      <td>0</td>\n",
       "      <td>2019</td>\n",
       "      <td>112</td>\n",
       "      <td>Biography|Drama</td>\n",
       "      <td>6.1</td>\n",
       "      <td>5549</td>\n",
       "      <td>Based on the memoir by Indian policy analyst S...</td>\n",
       "      <td>Explores Manmohan Singh's tenure as the Prime ...</td>\n",
       "      <td>NaN</td>\n",
       "      <td>Anupam Kher|Akshaye Khanna|Aahana Kumra|Atul S...</td>\n",
       "      <td>NaN</td>\n",
       "      <td>11 January 2019 (USA)</td>\n",
       "    </tr>\n",
       "    <tr>\n",
       "      <th>3</th>\n",
       "      <td>Why Cheat India</td>\n",
       "      <td>tt8108208</td>\n",
       "      <td>https://upload.wikimedia.org/wikipedia/en/thum...</td>\n",
       "      <td>https://en.wikipedia.org/wiki/Why_Cheat_India</td>\n",
       "      <td>Why Cheat India</td>\n",
       "      <td>Why Cheat India</td>\n",
       "      <td>0</td>\n",
       "      <td>2019</td>\n",
       "      <td>121</td>\n",
       "      <td>Crime|Drama</td>\n",
       "      <td>6.0</td>\n",
       "      <td>1891</td>\n",
       "      <td>The movie focuses on existing malpractices in ...</td>\n",
       "      <td>The movie focuses on existing malpractices in ...</td>\n",
       "      <td>NaN</td>\n",
       "      <td>Emraan Hashmi|Shreya Dhanwanthary|Snighdadeep ...</td>\n",
       "      <td>NaN</td>\n",
       "      <td>18 January 2019 (USA)</td>\n",
       "    </tr>\n",
       "    <tr>\n",
       "      <th>4</th>\n",
       "      <td>Evening Shadows</td>\n",
       "      <td>tt6028796</td>\n",
       "      <td>NaN</td>\n",
       "      <td>https://en.wikipedia.org/wiki/Evening_Shadows</td>\n",
       "      <td>Evening Shadows</td>\n",
       "      <td>Evening Shadows</td>\n",
       "      <td>0</td>\n",
       "      <td>2018</td>\n",
       "      <td>102</td>\n",
       "      <td>Drama</td>\n",
       "      <td>7.3</td>\n",
       "      <td>280</td>\n",
       "      <td>While gay rights and marriage equality has bee...</td>\n",
       "      <td>Under the 'Evening Shadows'  truth often plays...</td>\n",
       "      <td>NaN</td>\n",
       "      <td>Mona Ambegaonkar|Ananth Narayan Mahadevan|Deva...</td>\n",
       "      <td>17 wins &amp; 1 nomination</td>\n",
       "      <td>11 January 2019 (India)</td>\n",
       "    </tr>\n",
       "  </tbody>\n",
       "</table>\n",
       "</div>"
      ],
      "text/plain": [
       "                                title_x    imdb_id  \\\n",
       "0              Uri: The Surgical Strike  tt8291224   \n",
       "1                         Battalion 609  tt9472208   \n",
       "2  The Accidental Prime Minister (film)  tt6986710   \n",
       "3                       Why Cheat India  tt8108208   \n",
       "4                       Evening Shadows  tt6028796   \n",
       "\n",
       "                                         poster_path  \\\n",
       "0  https://upload.wikimedia.org/wikipedia/en/thum...   \n",
       "1                                                NaN   \n",
       "2  https://upload.wikimedia.org/wikipedia/en/thum...   \n",
       "3  https://upload.wikimedia.org/wikipedia/en/thum...   \n",
       "4                                                NaN   \n",
       "\n",
       "                                           wiki_link  \\\n",
       "0  https://en.wikipedia.org/wiki/Uri:_The_Surgica...   \n",
       "1        https://en.wikipedia.org/wiki/Battalion_609   \n",
       "2  https://en.wikipedia.org/wiki/The_Accidental_P...   \n",
       "3      https://en.wikipedia.org/wiki/Why_Cheat_India   \n",
       "4      https://en.wikipedia.org/wiki/Evening_Shadows   \n",
       "\n",
       "                         title_y                 original_title  is_adult  \\\n",
       "0       Uri: The Surgical Strike       Uri: The Surgical Strike         0   \n",
       "1                  Battalion 609                  Battalion 609         0   \n",
       "2  The Accidental Prime Minister  The Accidental Prime Minister         0   \n",
       "3                Why Cheat India                Why Cheat India         0   \n",
       "4                Evening Shadows                Evening Shadows         0   \n",
       "\n",
       "   year_of_release runtime            genres  imdb_rating  imdb_votes  \\\n",
       "0             2019     138  Action|Drama|War          8.4       35112   \n",
       "1             2019     131               War          4.1          73   \n",
       "2             2019     112   Biography|Drama          6.1        5549   \n",
       "3             2019     121       Crime|Drama          6.0        1891   \n",
       "4             2018     102             Drama          7.3         280   \n",
       "\n",
       "                                               story  \\\n",
       "0  Divided over five chapters  the film chronicle...   \n",
       "1  The story revolves around a cricket match betw...   \n",
       "2  Based on the memoir by Indian policy analyst S...   \n",
       "3  The movie focuses on existing malpractices in ...   \n",
       "4  While gay rights and marriage equality has bee...   \n",
       "\n",
       "                                             summary tagline  \\\n",
       "0  Indian army special forces execute a covert op...     NaN   \n",
       "1  The story of Battalion 609 revolves around a c...     NaN   \n",
       "2  Explores Manmohan Singh's tenure as the Prime ...     NaN   \n",
       "3  The movie focuses on existing malpractices in ...     NaN   \n",
       "4  Under the 'Evening Shadows'  truth often plays...     NaN   \n",
       "\n",
       "                                              actors        wins_nominations  \\\n",
       "0  Vicky Kaushal|Paresh Rawal|Mohit Raina|Yami Ga...                  4 wins   \n",
       "1  Vicky Ahuja|Shoaib Ibrahim|Shrikant Kamat|Elen...                     NaN   \n",
       "2  Anupam Kher|Akshaye Khanna|Aahana Kumra|Atul S...                     NaN   \n",
       "3  Emraan Hashmi|Shreya Dhanwanthary|Snighdadeep ...                     NaN   \n",
       "4  Mona Ambegaonkar|Ananth Narayan Mahadevan|Deva...  17 wins & 1 nomination   \n",
       "\n",
       "              release_date  \n",
       "0    11 January 2019 (USA)  \n",
       "1  11 January 2019 (India)  \n",
       "2    11 January 2019 (USA)  \n",
       "3    18 January 2019 (USA)  \n",
       "4  11 January 2019 (India)  "
      ]
     },
     "execution_count": 9,
     "metadata": {},
     "output_type": "execute_result"
    }
   ],
   "source": [
    "#head method returns the rows from the top\n",
    "movies.head()"
   ]
  },
  {
   "cell_type": "code",
   "execution_count": 10,
   "id": "b150c0a3",
   "metadata": {},
   "outputs": [
    {
     "data": {
      "text/html": [
       "<div>\n",
       "<style scoped>\n",
       "    .dataframe tbody tr th:only-of-type {\n",
       "        vertical-align: middle;\n",
       "    }\n",
       "\n",
       "    .dataframe tbody tr th {\n",
       "        vertical-align: top;\n",
       "    }\n",
       "\n",
       "    .dataframe thead th {\n",
       "        text-align: right;\n",
       "    }\n",
       "</style>\n",
       "<table border=\"1\" class=\"dataframe\">\n",
       "  <thead>\n",
       "    <tr style=\"text-align: right;\">\n",
       "      <th></th>\n",
       "      <th>title_x</th>\n",
       "      <th>imdb_id</th>\n",
       "      <th>poster_path</th>\n",
       "      <th>wiki_link</th>\n",
       "      <th>title_y</th>\n",
       "      <th>original_title</th>\n",
       "      <th>is_adult</th>\n",
       "      <th>year_of_release</th>\n",
       "      <th>runtime</th>\n",
       "      <th>genres</th>\n",
       "      <th>imdb_rating</th>\n",
       "      <th>imdb_votes</th>\n",
       "      <th>story</th>\n",
       "      <th>summary</th>\n",
       "      <th>tagline</th>\n",
       "      <th>actors</th>\n",
       "      <th>wins_nominations</th>\n",
       "      <th>release_date</th>\n",
       "    </tr>\n",
       "  </thead>\n",
       "  <tbody>\n",
       "    <tr>\n",
       "      <th>1624</th>\n",
       "      <td>Tera Mera Saath Rahen</td>\n",
       "      <td>tt0301250</td>\n",
       "      <td>https://upload.wikimedia.org/wikipedia/en/2/2b...</td>\n",
       "      <td>https://en.wikipedia.org/wiki/Tera_Mera_Saath_...</td>\n",
       "      <td>Tera Mera Saath Rahen</td>\n",
       "      <td>Tera Mera Saath Rahen</td>\n",
       "      <td>0</td>\n",
       "      <td>2001</td>\n",
       "      <td>148</td>\n",
       "      <td>Drama</td>\n",
       "      <td>4.9</td>\n",
       "      <td>278</td>\n",
       "      <td>Raj Dixit lives with his younger brother  Rahu...</td>\n",
       "      <td>A man is torn between his handicapped brother ...</td>\n",
       "      <td>NaN</td>\n",
       "      <td>Ajay Devgn|Sonali Bendre|Namrata Shirodkar|Pre...</td>\n",
       "      <td>NaN</td>\n",
       "      <td>7 November 2001 (India)</td>\n",
       "    </tr>\n",
       "    <tr>\n",
       "      <th>1625</th>\n",
       "      <td>Yeh Zindagi Ka Safar</td>\n",
       "      <td>tt0298607</td>\n",
       "      <td>https://upload.wikimedia.org/wikipedia/en/thum...</td>\n",
       "      <td>https://en.wikipedia.org/wiki/Yeh_Zindagi_Ka_S...</td>\n",
       "      <td>Yeh Zindagi Ka Safar</td>\n",
       "      <td>Yeh Zindagi Ka Safar</td>\n",
       "      <td>0</td>\n",
       "      <td>2001</td>\n",
       "      <td>146</td>\n",
       "      <td>Drama</td>\n",
       "      <td>3.0</td>\n",
       "      <td>133</td>\n",
       "      <td>Hindi pop-star  Sarina Devan  lives a wealthy ...</td>\n",
       "      <td>A singer finds out she was adopted when the ed...</td>\n",
       "      <td>NaN</td>\n",
       "      <td>Ameesha Patel|Jimmy Sheirgill|Nafisa Ali|Gulsh...</td>\n",
       "      <td>NaN</td>\n",
       "      <td>16 November 2001 (India)</td>\n",
       "    </tr>\n",
       "    <tr>\n",
       "      <th>1626</th>\n",
       "      <td>Sabse Bada Sukh</td>\n",
       "      <td>tt0069204</td>\n",
       "      <td>NaN</td>\n",
       "      <td>https://en.wikipedia.org/wiki/Sabse_Bada_Sukh</td>\n",
       "      <td>Sabse Bada Sukh</td>\n",
       "      <td>Sabse Bada Sukh</td>\n",
       "      <td>0</td>\n",
       "      <td>2018</td>\n",
       "      <td>\\N</td>\n",
       "      <td>Comedy|Drama</td>\n",
       "      <td>6.1</td>\n",
       "      <td>13</td>\n",
       "      <td>Village born Lalloo re-locates to Bombay  and ...</td>\n",
       "      <td>Village born Lalloo re-locates to Bombay  and ...</td>\n",
       "      <td>NaN</td>\n",
       "      <td>Vijay Arora|Asrani|Rajni Bala|Kumud Damle|Utpa...</td>\n",
       "      <td>NaN</td>\n",
       "      <td>NaN</td>\n",
       "    </tr>\n",
       "    <tr>\n",
       "      <th>1627</th>\n",
       "      <td>Daaka</td>\n",
       "      <td>tt10833860</td>\n",
       "      <td>https://upload.wikimedia.org/wikipedia/en/thum...</td>\n",
       "      <td>https://en.wikipedia.org/wiki/Daaka</td>\n",
       "      <td>Daaka</td>\n",
       "      <td>Daaka</td>\n",
       "      <td>0</td>\n",
       "      <td>2019</td>\n",
       "      <td>136</td>\n",
       "      <td>Action</td>\n",
       "      <td>7.4</td>\n",
       "      <td>38</td>\n",
       "      <td>Shinda tries robbing a bank so he can be wealt...</td>\n",
       "      <td>Shinda tries robbing a bank so he can be wealt...</td>\n",
       "      <td>NaN</td>\n",
       "      <td>Gippy Grewal|Zareen Khan|</td>\n",
       "      <td>NaN</td>\n",
       "      <td>1 November 2019 (USA)</td>\n",
       "    </tr>\n",
       "    <tr>\n",
       "      <th>1628</th>\n",
       "      <td>Humsafar</td>\n",
       "      <td>tt2403201</td>\n",
       "      <td>https://upload.wikimedia.org/wikipedia/en/thum...</td>\n",
       "      <td>https://en.wikipedia.org/wiki/Humsafar</td>\n",
       "      <td>Humsafar</td>\n",
       "      <td>Humsafar</td>\n",
       "      <td>0</td>\n",
       "      <td>2011</td>\n",
       "      <td>35</td>\n",
       "      <td>Drama|Romance</td>\n",
       "      <td>9.0</td>\n",
       "      <td>2968</td>\n",
       "      <td>Sara and Ashar are childhood friends who share...</td>\n",
       "      <td>Ashar and Khirad are forced to get married due...</td>\n",
       "      <td>NaN</td>\n",
       "      <td>Fawad Khan|</td>\n",
       "      <td>NaN</td>\n",
       "      <td>TV Series (2011–2012)</td>\n",
       "    </tr>\n",
       "  </tbody>\n",
       "</table>\n",
       "</div>"
      ],
      "text/plain": [
       "                    title_x     imdb_id  \\\n",
       "1624  Tera Mera Saath Rahen   tt0301250   \n",
       "1625   Yeh Zindagi Ka Safar   tt0298607   \n",
       "1626        Sabse Bada Sukh   tt0069204   \n",
       "1627                  Daaka  tt10833860   \n",
       "1628               Humsafar   tt2403201   \n",
       "\n",
       "                                            poster_path  \\\n",
       "1624  https://upload.wikimedia.org/wikipedia/en/2/2b...   \n",
       "1625  https://upload.wikimedia.org/wikipedia/en/thum...   \n",
       "1626                                                NaN   \n",
       "1627  https://upload.wikimedia.org/wikipedia/en/thum...   \n",
       "1628  https://upload.wikimedia.org/wikipedia/en/thum...   \n",
       "\n",
       "                                              wiki_link  \\\n",
       "1624  https://en.wikipedia.org/wiki/Tera_Mera_Saath_...   \n",
       "1625  https://en.wikipedia.org/wiki/Yeh_Zindagi_Ka_S...   \n",
       "1626      https://en.wikipedia.org/wiki/Sabse_Bada_Sukh   \n",
       "1627                https://en.wikipedia.org/wiki/Daaka   \n",
       "1628             https://en.wikipedia.org/wiki/Humsafar   \n",
       "\n",
       "                    title_y         original_title  is_adult  year_of_release  \\\n",
       "1624  Tera Mera Saath Rahen  Tera Mera Saath Rahen         0             2001   \n",
       "1625   Yeh Zindagi Ka Safar   Yeh Zindagi Ka Safar         0             2001   \n",
       "1626        Sabse Bada Sukh        Sabse Bada Sukh         0             2018   \n",
       "1627                  Daaka                  Daaka         0             2019   \n",
       "1628               Humsafar               Humsafar         0             2011   \n",
       "\n",
       "     runtime         genres  imdb_rating  imdb_votes  \\\n",
       "1624     148          Drama          4.9         278   \n",
       "1625     146          Drama          3.0         133   \n",
       "1626      \\N   Comedy|Drama          6.1          13   \n",
       "1627     136         Action          7.4          38   \n",
       "1628      35  Drama|Romance          9.0        2968   \n",
       "\n",
       "                                                  story  \\\n",
       "1624  Raj Dixit lives with his younger brother  Rahu...   \n",
       "1625  Hindi pop-star  Sarina Devan  lives a wealthy ...   \n",
       "1626  Village born Lalloo re-locates to Bombay  and ...   \n",
       "1627  Shinda tries robbing a bank so he can be wealt...   \n",
       "1628  Sara and Ashar are childhood friends who share...   \n",
       "\n",
       "                                                summary tagline  \\\n",
       "1624  A man is torn between his handicapped brother ...     NaN   \n",
       "1625  A singer finds out she was adopted when the ed...     NaN   \n",
       "1626  Village born Lalloo re-locates to Bombay  and ...     NaN   \n",
       "1627  Shinda tries robbing a bank so he can be wealt...     NaN   \n",
       "1628  Ashar and Khirad are forced to get married due...     NaN   \n",
       "\n",
       "                                                 actors wins_nominations  \\\n",
       "1624  Ajay Devgn|Sonali Bendre|Namrata Shirodkar|Pre...              NaN   \n",
       "1625  Ameesha Patel|Jimmy Sheirgill|Nafisa Ali|Gulsh...              NaN   \n",
       "1626  Vijay Arora|Asrani|Rajni Bala|Kumud Damle|Utpa...              NaN   \n",
       "1627                          Gippy Grewal|Zareen Khan|              NaN   \n",
       "1628                                        Fawad Khan|              NaN   \n",
       "\n",
       "                  release_date  \n",
       "1624   7 November 2001 (India)  \n",
       "1625  16 November 2001 (India)  \n",
       "1626                       NaN  \n",
       "1627     1 November 2019 (USA)  \n",
       "1628     TV Series (2011–2012)  "
      ]
     },
     "execution_count": 10,
     "metadata": {},
     "output_type": "execute_result"
    }
   ],
   "source": [
    "#tail shows the records from the bottom. \n",
    "movies.tail()"
   ]
  },
  {
   "cell_type": "code",
   "execution_count": 11,
   "id": "26ae1bd9",
   "metadata": {},
   "outputs": [
    {
     "data": {
      "text/html": [
       "<div>\n",
       "<style scoped>\n",
       "    .dataframe tbody tr th:only-of-type {\n",
       "        vertical-align: middle;\n",
       "    }\n",
       "\n",
       "    .dataframe tbody tr th {\n",
       "        vertical-align: top;\n",
       "    }\n",
       "\n",
       "    .dataframe thead th {\n",
       "        text-align: right;\n",
       "    }\n",
       "</style>\n",
       "<table border=\"1\" class=\"dataframe\">\n",
       "  <thead>\n",
       "    <tr style=\"text-align: right;\">\n",
       "      <th></th>\n",
       "      <th>title_x</th>\n",
       "      <th>imdb_id</th>\n",
       "      <th>poster_path</th>\n",
       "      <th>wiki_link</th>\n",
       "      <th>title_y</th>\n",
       "      <th>original_title</th>\n",
       "      <th>is_adult</th>\n",
       "      <th>year_of_release</th>\n",
       "      <th>runtime</th>\n",
       "      <th>genres</th>\n",
       "      <th>imdb_rating</th>\n",
       "      <th>imdb_votes</th>\n",
       "      <th>story</th>\n",
       "      <th>summary</th>\n",
       "      <th>tagline</th>\n",
       "      <th>actors</th>\n",
       "      <th>wins_nominations</th>\n",
       "      <th>release_date</th>\n",
       "    </tr>\n",
       "  </thead>\n",
       "  <tbody>\n",
       "    <tr>\n",
       "      <th>161</th>\n",
       "      <td>Judwaa 2</td>\n",
       "      <td>tt5456546</td>\n",
       "      <td>https://upload.wikimedia.org/wikipedia/en/thum...</td>\n",
       "      <td>https://en.wikipedia.org/wiki/Judwaa_2</td>\n",
       "      <td>Twins 2</td>\n",
       "      <td>Judwaa 2</td>\n",
       "      <td>0</td>\n",
       "      <td>2017</td>\n",
       "      <td>145</td>\n",
       "      <td>Action|Comedy</td>\n",
       "      <td>3.8</td>\n",
       "      <td>7418</td>\n",
       "      <td>Two brothers (twins) born to an honest busines...</td>\n",
       "      <td>Prem and Raja are twin brothers who are sepera...</td>\n",
       "      <td>NaN</td>\n",
       "      <td>Varun Dhawan|Jacqueline Fernandez|Taapsee Pann...</td>\n",
       "      <td>6 nominations</td>\n",
       "      <td>29 September 2017 (USA)</td>\n",
       "    </tr>\n",
       "  </tbody>\n",
       "</table>\n",
       "</div>"
      ],
      "text/plain": [
       "      title_x    imdb_id                                        poster_path  \\\n",
       "161  Judwaa 2  tt5456546  https://upload.wikimedia.org/wikipedia/en/thum...   \n",
       "\n",
       "                                  wiki_link  title_y original_title  is_adult  \\\n",
       "161  https://en.wikipedia.org/wiki/Judwaa_2  Twins 2       Judwaa 2         0   \n",
       "\n",
       "     year_of_release runtime         genres  imdb_rating  imdb_votes  \\\n",
       "161             2017     145  Action|Comedy          3.8        7418   \n",
       "\n",
       "                                                 story  \\\n",
       "161  Two brothers (twins) born to an honest busines...   \n",
       "\n",
       "                                               summary tagline  \\\n",
       "161  Prem and Raja are twin brothers who are sepera...     NaN   \n",
       "\n",
       "                                                actors wins_nominations  \\\n",
       "161  Varun Dhawan|Jacqueline Fernandez|Taapsee Pann...    6 nominations   \n",
       "\n",
       "                release_date  \n",
       "161  29 September 2017 (USA)  "
      ]
     },
     "execution_count": 11,
     "metadata": {},
     "output_type": "execute_result"
    }
   ],
   "source": [
    "#sample returns a record at a random\n",
    "movies.sample()"
   ]
  },
  {
   "cell_type": "code",
   "execution_count": 12,
   "id": "9f8ba169",
   "metadata": {},
   "outputs": [
    {
     "name": "stdout",
     "output_type": "stream",
     "text": [
      "<class 'pandas.core.frame.DataFrame'>\n",
      "RangeIndex: 1629 entries, 0 to 1628\n",
      "Data columns (total 18 columns):\n",
      " #   Column            Non-Null Count  Dtype  \n",
      "---  ------            --------------  -----  \n",
      " 0   title_x           1629 non-null   object \n",
      " 1   imdb_id           1629 non-null   object \n",
      " 2   poster_path       1526 non-null   object \n",
      " 3   wiki_link         1629 non-null   object \n",
      " 4   title_y           1629 non-null   object \n",
      " 5   original_title    1629 non-null   object \n",
      " 6   is_adult          1629 non-null   int64  \n",
      " 7   year_of_release   1629 non-null   int64  \n",
      " 8   runtime           1629 non-null   object \n",
      " 9   genres            1629 non-null   object \n",
      " 10  imdb_rating       1629 non-null   float64\n",
      " 11  imdb_votes        1629 non-null   int64  \n",
      " 12  story             1609 non-null   object \n",
      " 13  summary           1629 non-null   object \n",
      " 14  tagline           557 non-null    object \n",
      " 15  actors            1624 non-null   object \n",
      " 16  wins_nominations  707 non-null    object \n",
      " 17  release_date      1522 non-null   object \n",
      "dtypes: float64(1), int64(3), object(14)\n",
      "memory usage: 229.2+ KB\n"
     ]
    }
   ],
   "source": [
    "#info method provides the number of not null values in each of the column.summary of all the datatypes in the dataset\n",
    "#memory occupied by the dataset. \n",
    "movies.info()"
   ]
  },
  {
   "cell_type": "code",
   "execution_count": 13,
   "id": "1c91ef18",
   "metadata": {},
   "outputs": [
    {
     "data": {
      "text/html": [
       "<div>\n",
       "<style scoped>\n",
       "    .dataframe tbody tr th:only-of-type {\n",
       "        vertical-align: middle;\n",
       "    }\n",
       "\n",
       "    .dataframe tbody tr th {\n",
       "        vertical-align: top;\n",
       "    }\n",
       "\n",
       "    .dataframe thead th {\n",
       "        text-align: right;\n",
       "    }\n",
       "</style>\n",
       "<table border=\"1\" class=\"dataframe\">\n",
       "  <thead>\n",
       "    <tr style=\"text-align: right;\">\n",
       "      <th></th>\n",
       "      <th>is_adult</th>\n",
       "      <th>year_of_release</th>\n",
       "      <th>imdb_rating</th>\n",
       "      <th>imdb_votes</th>\n",
       "    </tr>\n",
       "  </thead>\n",
       "  <tbody>\n",
       "    <tr>\n",
       "      <th>count</th>\n",
       "      <td>1629.0</td>\n",
       "      <td>1629.000000</td>\n",
       "      <td>1629.000000</td>\n",
       "      <td>1629.000000</td>\n",
       "    </tr>\n",
       "    <tr>\n",
       "      <th>mean</th>\n",
       "      <td>0.0</td>\n",
       "      <td>2010.263966</td>\n",
       "      <td>5.557459</td>\n",
       "      <td>5384.263352</td>\n",
       "    </tr>\n",
       "    <tr>\n",
       "      <th>std</th>\n",
       "      <td>0.0</td>\n",
       "      <td>5.381542</td>\n",
       "      <td>1.567609</td>\n",
       "      <td>14552.103231</td>\n",
       "    </tr>\n",
       "    <tr>\n",
       "      <th>min</th>\n",
       "      <td>0.0</td>\n",
       "      <td>2001.000000</td>\n",
       "      <td>0.000000</td>\n",
       "      <td>0.000000</td>\n",
       "    </tr>\n",
       "    <tr>\n",
       "      <th>25%</th>\n",
       "      <td>0.0</td>\n",
       "      <td>2005.000000</td>\n",
       "      <td>4.400000</td>\n",
       "      <td>233.000000</td>\n",
       "    </tr>\n",
       "    <tr>\n",
       "      <th>50%</th>\n",
       "      <td>0.0</td>\n",
       "      <td>2011.000000</td>\n",
       "      <td>5.600000</td>\n",
       "      <td>1000.000000</td>\n",
       "    </tr>\n",
       "    <tr>\n",
       "      <th>75%</th>\n",
       "      <td>0.0</td>\n",
       "      <td>2015.000000</td>\n",
       "      <td>6.800000</td>\n",
       "      <td>4287.000000</td>\n",
       "    </tr>\n",
       "    <tr>\n",
       "      <th>max</th>\n",
       "      <td>0.0</td>\n",
       "      <td>2019.000000</td>\n",
       "      <td>9.400000</td>\n",
       "      <td>310481.000000</td>\n",
       "    </tr>\n",
       "  </tbody>\n",
       "</table>\n",
       "</div>"
      ],
      "text/plain": [
       "       is_adult  year_of_release  imdb_rating     imdb_votes\n",
       "count    1629.0      1629.000000  1629.000000    1629.000000\n",
       "mean        0.0      2010.263966     5.557459    5384.263352\n",
       "std         0.0         5.381542     1.567609   14552.103231\n",
       "min         0.0      2001.000000     0.000000       0.000000\n",
       "25%         0.0      2005.000000     4.400000     233.000000\n",
       "50%         0.0      2011.000000     5.600000    1000.000000\n",
       "75%         0.0      2015.000000     6.800000    4287.000000\n",
       "max         0.0      2019.000000     9.400000  310481.000000"
      ]
     },
     "execution_count": 13,
     "metadata": {},
     "output_type": "execute_result"
    }
   ],
   "source": [
    "#describe method provides the total count, mean, standard deviation, minimum, 25%, median(50%), 75% and maximum value of the \n",
    "#dataset. This provides the above data for numerical columns only. \n",
    "movies.describe()"
   ]
  },
  {
   "cell_type": "code",
   "execution_count": 14,
   "id": "23464a63",
   "metadata": {},
   "outputs": [
    {
     "data": {
      "text/plain": [
       "title_x                0\n",
       "imdb_id                0\n",
       "poster_path          103\n",
       "wiki_link              0\n",
       "title_y                0\n",
       "original_title         0\n",
       "is_adult               0\n",
       "year_of_release        0\n",
       "runtime                0\n",
       "genres                 0\n",
       "imdb_rating            0\n",
       "imdb_votes             0\n",
       "story                 20\n",
       "summary                0\n",
       "tagline             1072\n",
       "actors                 5\n",
       "wins_nominations     922\n",
       "release_date         107\n",
       "dtype: int64"
      ]
     },
     "execution_count": 14,
     "metadata": {},
     "output_type": "execute_result"
    }
   ],
   "source": [
    "#isnull() method is used to display the boolean matrix of the dataset. if we use sum() method on top of this, it will show the \n",
    "#no of null values in each of the column. \n",
    "movies.isnull().sum()"
   ]
  },
  {
   "cell_type": "code",
   "execution_count": 15,
   "id": "548f60af",
   "metadata": {},
   "outputs": [
    {
     "data": {
      "text/plain": [
       "0"
      ]
     },
     "execution_count": 15,
     "metadata": {},
     "output_type": "execute_result"
    }
   ],
   "source": [
    "#duplicated() will return True, if there are any duplicate rows. if we apply the sum() over the duplicated, it will provide\n",
    "#the duplicate values. \n",
    "movies.duplicated().sum()"
   ]
  },
  {
   "cell_type": "code",
   "execution_count": 16,
   "id": "7cbf1136",
   "metadata": {},
   "outputs": [
    {
     "name": "stdout",
     "output_type": "stream",
     "text": [
      "      Name  science  maths  social\n",
      "0   anitha      100     78      55\n",
      "1    anika      100     80      60\n",
      "2  pritesh       98     44      38\n",
      "3   deepak       67     76      96\n"
     ]
    },
    {
     "data": {
      "text/plain": [
       "Name       anithaanikapriteshdeepak\n",
       "science                         365\n",
       "maths                           278\n",
       "social                          249\n",
       "dtype: object"
      ]
     },
     "execution_count": 16,
     "metadata": {},
     "output_type": "execute_result"
    }
   ],
   "source": [
    "student_df = pd.DataFrame(student_dict)\n",
    "print(student_df)\n",
    "student_df.sum()"
   ]
  },
  {
   "cell_type": "code",
   "execution_count": 17,
   "id": "f1e0f346",
   "metadata": {},
   "outputs": [
    {
     "name": "stdout",
     "output_type": "stream",
     "text": [
      "0    233\n",
      "1    240\n",
      "2    180\n",
      "3    239\n",
      "dtype: int64\n"
     ]
    },
    {
     "name": "stderr",
     "output_type": "stream",
     "text": [
      "C:\\Users\\i527992\\AppData\\Local\\Temp\\ipykernel_33516\\151396045.py:2: FutureWarning: Dropping of nuisance columns in DataFrame reductions (with 'numeric_only=None') is deprecated; in a future version this will raise TypeError.  Select only valid columns before calling the reduction.\n",
      "  print(student_df.sum(axis=1))\n"
     ]
    }
   ],
   "source": [
    "#axis =1 means the sum of the row. It displays the marks obtained by a student\n",
    "print(student_df.sum(axis=1))"
   ]
  },
  {
   "cell_type": "code",
   "execution_count": 18,
   "id": "9ea6aa9e",
   "metadata": {},
   "outputs": [],
   "source": [
    "student_df.rename(columns={'science':'science_marks','maths':'maths_marks','social':'social_marks'},inplace=True)"
   ]
  },
  {
   "cell_type": "code",
   "execution_count": 19,
   "id": "25220a0c",
   "metadata": {},
   "outputs": [
    {
     "data": {
      "text/html": [
       "<div>\n",
       "<style scoped>\n",
       "    .dataframe tbody tr th:only-of-type {\n",
       "        vertical-align: middle;\n",
       "    }\n",
       "\n",
       "    .dataframe tbody tr th {\n",
       "        vertical-align: top;\n",
       "    }\n",
       "\n",
       "    .dataframe thead th {\n",
       "        text-align: right;\n",
       "    }\n",
       "</style>\n",
       "<table border=\"1\" class=\"dataframe\">\n",
       "  <thead>\n",
       "    <tr style=\"text-align: right;\">\n",
       "      <th></th>\n",
       "      <th>Name</th>\n",
       "      <th>science_marks</th>\n",
       "      <th>maths_marks</th>\n",
       "      <th>social_marks</th>\n",
       "    </tr>\n",
       "  </thead>\n",
       "  <tbody>\n",
       "    <tr>\n",
       "      <th>0</th>\n",
       "      <td>anitha</td>\n",
       "      <td>100</td>\n",
       "      <td>78</td>\n",
       "      <td>55</td>\n",
       "    </tr>\n",
       "    <tr>\n",
       "      <th>1</th>\n",
       "      <td>anika</td>\n",
       "      <td>100</td>\n",
       "      <td>80</td>\n",
       "      <td>60</td>\n",
       "    </tr>\n",
       "    <tr>\n",
       "      <th>2</th>\n",
       "      <td>pritesh</td>\n",
       "      <td>98</td>\n",
       "      <td>44</td>\n",
       "      <td>38</td>\n",
       "    </tr>\n",
       "    <tr>\n",
       "      <th>3</th>\n",
       "      <td>deepak</td>\n",
       "      <td>67</td>\n",
       "      <td>76</td>\n",
       "      <td>96</td>\n",
       "    </tr>\n",
       "  </tbody>\n",
       "</table>\n",
       "</div>"
      ],
      "text/plain": [
       "      Name  science_marks  maths_marks  social_marks\n",
       "0   anitha            100           78            55\n",
       "1    anika            100           80            60\n",
       "2  pritesh             98           44            38\n",
       "3   deepak             67           76            96"
      ]
     },
     "execution_count": 19,
     "metadata": {},
     "output_type": "execute_result"
    }
   ],
   "source": [
    "student_df"
   ]
  },
  {
   "cell_type": "code",
   "execution_count": 20,
   "id": "57842b2f",
   "metadata": {},
   "outputs": [
    {
     "data": {
      "text/plain": [
       "0     anitha\n",
       "1      anika\n",
       "2    pritesh\n",
       "3     deepak\n",
       "Name: Name, dtype: object"
      ]
     },
     "execution_count": 20,
     "metadata": {},
     "output_type": "execute_result"
    }
   ],
   "source": [
    "#calling a single column of the dataframe\n",
    "student_df['Name']"
   ]
  },
  {
   "cell_type": "code",
   "execution_count": 21,
   "id": "d3731e3c",
   "metadata": {},
   "outputs": [
    {
     "data": {
      "text/html": [
       "<div>\n",
       "<style scoped>\n",
       "    .dataframe tbody tr th:only-of-type {\n",
       "        vertical-align: middle;\n",
       "    }\n",
       "\n",
       "    .dataframe tbody tr th {\n",
       "        vertical-align: top;\n",
       "    }\n",
       "\n",
       "    .dataframe thead th {\n",
       "        text-align: right;\n",
       "    }\n",
       "</style>\n",
       "<table border=\"1\" class=\"dataframe\">\n",
       "  <thead>\n",
       "    <tr style=\"text-align: right;\">\n",
       "      <th></th>\n",
       "      <th>Name</th>\n",
       "      <th>science_marks</th>\n",
       "    </tr>\n",
       "  </thead>\n",
       "  <tbody>\n",
       "    <tr>\n",
       "      <th>0</th>\n",
       "      <td>anitha</td>\n",
       "      <td>100</td>\n",
       "    </tr>\n",
       "    <tr>\n",
       "      <th>1</th>\n",
       "      <td>anika</td>\n",
       "      <td>100</td>\n",
       "    </tr>\n",
       "    <tr>\n",
       "      <th>2</th>\n",
       "      <td>pritesh</td>\n",
       "      <td>98</td>\n",
       "    </tr>\n",
       "    <tr>\n",
       "      <th>3</th>\n",
       "      <td>deepak</td>\n",
       "      <td>67</td>\n",
       "    </tr>\n",
       "  </tbody>\n",
       "</table>\n",
       "</div>"
      ],
      "text/plain": [
       "      Name  science_marks\n",
       "0   anitha            100\n",
       "1    anika            100\n",
       "2  pritesh             98\n",
       "3   deepak             67"
      ]
     },
     "execution_count": 21,
     "metadata": {},
     "output_type": "execute_result"
    }
   ],
   "source": [
    "#displaying multiple columns\n",
    "student_df[['Name','science_marks']]"
   ]
  },
  {
   "cell_type": "code",
   "execution_count": 23,
   "id": "641db7db",
   "metadata": {},
   "outputs": [
    {
     "data": {
      "text/html": [
       "<div>\n",
       "<style scoped>\n",
       "    .dataframe tbody tr th:only-of-type {\n",
       "        vertical-align: middle;\n",
       "    }\n",
       "\n",
       "    .dataframe tbody tr th {\n",
       "        vertical-align: top;\n",
       "    }\n",
       "\n",
       "    .dataframe thead th {\n",
       "        text-align: right;\n",
       "    }\n",
       "</style>\n",
       "<table border=\"1\" class=\"dataframe\">\n",
       "  <thead>\n",
       "    <tr style=\"text-align: right;\">\n",
       "      <th></th>\n",
       "      <th>science_marks</th>\n",
       "      <th>maths_marks</th>\n",
       "      <th>social_marks</th>\n",
       "    </tr>\n",
       "    <tr>\n",
       "      <th>Name</th>\n",
       "      <th></th>\n",
       "      <th></th>\n",
       "      <th></th>\n",
       "    </tr>\n",
       "  </thead>\n",
       "  <tbody>\n",
       "    <tr>\n",
       "      <th>anitha</th>\n",
       "      <td>100</td>\n",
       "      <td>78</td>\n",
       "      <td>55</td>\n",
       "    </tr>\n",
       "    <tr>\n",
       "      <th>anika</th>\n",
       "      <td>100</td>\n",
       "      <td>80</td>\n",
       "      <td>60</td>\n",
       "    </tr>\n",
       "    <tr>\n",
       "      <th>pritesh</th>\n",
       "      <td>98</td>\n",
       "      <td>44</td>\n",
       "      <td>38</td>\n",
       "    </tr>\n",
       "    <tr>\n",
       "      <th>deepak</th>\n",
       "      <td>67</td>\n",
       "      <td>76</td>\n",
       "      <td>96</td>\n",
       "    </tr>\n",
       "  </tbody>\n",
       "</table>\n",
       "</div>"
      ],
      "text/plain": [
       "         science_marks  maths_marks  social_marks\n",
       "Name                                             \n",
       "anitha             100           78            55\n",
       "anika              100           80            60\n",
       "pritesh             98           44            38\n",
       "deepak              67           76            96"
      ]
     },
     "execution_count": 23,
     "metadata": {},
     "output_type": "execute_result"
    }
   ],
   "source": [
    "student_df_index = student_df.copy()\n",
    "student_df_index.set_index('Name',inplace=True)\n",
    "student_df_index"
   ]
  },
  {
   "cell_type": "code",
   "execution_count": 34,
   "id": "18236421",
   "metadata": {},
   "outputs": [
    {
     "name": "stdout",
     "output_type": "stream",
     "text": [
      "using loc[0] on student_df\n",
      " Name             anitha\n",
      "science_marks       100\n",
      "maths_marks          78\n",
      "social_marks         55\n",
      "Name: 0, dtype: object\n",
      "\n",
      " using iloc[0] on student_df_index\n",
      " science_marks    100\n",
      "maths_marks       78\n",
      "social_marks      55\n",
      "Name: anitha, dtype: int64\n"
     ]
    }
   ],
   "source": [
    "#.loc and .iloc methods are used for selecting the rows. \n",
    "\n",
    "#Single row selection using loc and iloc methods\n",
    "#using loc method on default indexes. if we are using the customized indexes, then we can use the customized index only in this \n",
    "#case. \n",
    "print('using loc[0] on student_df\\n',student_df.loc[0])\n",
    "print('\\n using iloc[0] on student_df_index\\n',student_df_index.loc['anitha'])"
   ]
  },
  {
   "cell_type": "code",
   "execution_count": 33,
   "id": "d47b1b06",
   "metadata": {},
   "outputs": [
    {
     "name": "stdout",
     "output_type": "stream",
     "text": [
      "using loc[0] on student_df\n",
      " Name             anitha\n",
      "science_marks       100\n",
      "maths_marks          78\n",
      "social_marks         55\n",
      "Name: 0, dtype: object\n",
      "\n",
      " using iloc[0] on student_df_index\n",
      " science_marks    100\n",
      "maths_marks       78\n",
      "social_marks      55\n",
      "Name: anitha, dtype: int64\n"
     ]
    }
   ],
   "source": [
    "#using iloc. iloc can be used, whether the default indexing is being used or the customized indexing is used. \n",
    "print('using iloc[0] on student_df\\n',student_df.iloc[0])\n",
    "print('\\n using iloc[0] on student_df_index\\n',student_df_index.iloc[0])"
   ]
  },
  {
   "cell_type": "code",
   "execution_count": 35,
   "id": "bca5caf2",
   "metadata": {},
   "outputs": [
    {
     "name": "stdout",
     "output_type": "stream",
     "text": [
      "\n",
      "student_df :\n",
      "       Name  science_marks  maths_marks  social_marks\n",
      "0   anitha            100           78            55\n",
      "1    anika            100           80            60\n",
      "2  pritesh             98           44            38\n",
      "3   deepak             67           76            96\n",
      "\n",
      "student_df_index :\n",
      "          science_marks  maths_marks  social_marks\n",
      "Name                                             \n",
      "anitha             100           78            55\n",
      "anika              100           80            60\n",
      "pritesh             98           44            38\n",
      "deepak              67           76            96\n"
     ]
    }
   ],
   "source": [
    "#selecting the multiple rows from the dataframe. \n",
    "print('\\nstudent_df :\\n',student_df)\n",
    "print('\\nstudent_df_index :\\n',student_df_index)"
   ]
  },
  {
   "cell_type": "code",
   "execution_count": 48,
   "id": "662f41d0",
   "metadata": {},
   "outputs": [
    {
     "name": "stdout",
     "output_type": "stream",
     "text": [
      "\n",
      "student_df :\n",
      "      Name  science_marks  maths_marks  social_marks\n",
      "0  anitha            100           78            55\n",
      "1   anika            100           80            60\n",
      "\n",
      "student_df_index :\n",
      "         science_marks  maths_marks  social_marks\n",
      "Name                                            \n",
      "anitha            100           78            55\n",
      "anika             100           80            60\n"
     ]
    }
   ],
   "source": [
    "#display the records of anitha, anika using loc\n",
    "print('\\nstudent_df :\\n',student_df.loc[0:1])\n",
    "print('\\nstudent_df_index :\\n',student_df_index.loc['anitha':'anika'])"
   ]
  },
  {
   "cell_type": "code",
   "execution_count": 50,
   "id": "29e003e1",
   "metadata": {},
   "outputs": [
    {
     "name": "stdout",
     "output_type": "stream",
     "text": [
      "\n",
      " student_df :\n",
      "      Name  science_marks  maths_marks  social_marks\n",
      "0  anitha            100           78            55\n",
      "1   anika            100           80            60\n",
      "\n",
      " student_df_index:\n",
      "         science_marks  maths_marks  social_marks\n",
      "Name                                            \n",
      "anitha            100           78            55\n",
      "anika             100           80            60\n"
     ]
    }
   ],
   "source": [
    "#display of the records of anitha and ankia using iloc methods\n",
    "print('\\n student_df :\\n',student_df.iloc[0:2])\n",
    "print('\\n student_df_index:\\n',student_df_index.iloc[0:2])"
   ]
  },
  {
   "cell_type": "code",
   "execution_count": 65,
   "id": "9adedca9",
   "metadata": {},
   "outputs": [
    {
     "name": "stdout",
     "output_type": "stream",
     "text": [
      "\n",
      " student_df :\n",
      "       Name  science_marks  maths_marks\n",
      "1    anika            100           80\n",
      "2  pritesh             98           44\n",
      "\n",
      " student_df :\n",
      "          science_marks  maths_marks\n",
      "Name                               \n",
      "anika              100           80\n",
      "pritesh             98           44\n"
     ]
    }
   ],
   "source": [
    "#display of science marks, maths marks of anika and pritesh using loc method.\n",
    "print('\\n student_df :\\n',student_df[['Name','science_marks','maths_marks']].loc[1:2])\n",
    "print('\\n student_df_index :\\n',student_df_index[['science_marks','maths_marks']].loc['anika':'pritesh'])"
   ]
  },
  {
   "cell_type": "code",
   "execution_count": 68,
   "id": "6717f8ee",
   "metadata": {},
   "outputs": [
    {
     "name": "stdout",
     "output_type": "stream",
     "text": [
      "\n",
      " student_df :\n",
      "       Name  science_marks  maths_marks\n",
      "1    anika            100           80\n",
      "2  pritesh             98           44\n",
      "\n",
      " student_df_index :\n",
      "          science_marks  maths_marks\n",
      "Name                               \n",
      "anika              100           80\n",
      "pritesh             98           44\n"
     ]
    }
   ],
   "source": [
    "#display of science marks, maths marks of anika and pritesh using iloc method.\n",
    "print('\\n student_df :\\n',student_df[['Name','science_marks','maths_marks']].iloc[1:3])\n",
    "print('\\n student_df_index :\\n',student_df_index[['science_marks','maths_marks']].iloc[1:3])"
   ]
  },
  {
   "cell_type": "code",
   "execution_count": null,
   "id": "d1efde5c",
   "metadata": {},
   "outputs": [],
   "source": []
  }
 ],
 "metadata": {
  "kernelspec": {
   "display_name": "Python 3 (ipykernel)",
   "language": "python",
   "name": "python3"
  },
  "language_info": {
   "codemirror_mode": {
    "name": "ipython",
    "version": 3
   },
   "file_extension": ".py",
   "mimetype": "text/x-python",
   "name": "python",
   "nbconvert_exporter": "python",
   "pygments_lexer": "ipython3",
   "version": "3.9.12"
  }
 },
 "nbformat": 4,
 "nbformat_minor": 5
}
